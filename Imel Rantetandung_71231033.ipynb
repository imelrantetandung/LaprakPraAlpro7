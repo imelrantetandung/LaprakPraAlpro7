{
  "nbformat": 4,
  "nbformat_minor": 0,
  "metadata": {
    "colab": {
      "provenance": []
    },
    "kernelspec": {
      "name": "python3",
      "display_name": "Python 3"
    },
    "language_info": {
      "name": "python"
    }
  },
  "cells": [
    {
      "cell_type": "code",
      "execution_count": null,
      "metadata": {
        "id": "OTbklrqp0u3W"
      },
      "outputs": [],
      "source": [
        "#TUGAS NO.1\n",
        "kata1 = input(\"Masukkan kata pertama: \")\n",
        "kata2 = input(\"Masukkan kata kedua: \")\n",
        "\n",
        "kata1 = kata1.lower()\n",
        "kata2 = kata2.lower()\n",
        "\n",
        "if len(kata1) != len(kata2):\n",
        "    print(\"Bukan anagram\")\n",
        "else:\n",
        "    a = list(kata1)\n",
        "    b = list(kata2)\n",
        "\n",
        "    a.sort()\n",
        "    b.sort()\n",
        "\n",
        "    if a == b:\n",
        "        print(\"Anagram\")\n",
        "    else:\n",
        "        print(\"Bukan anagram\")"
      ]
    },
    {
      "cell_type": "code",
      "source": [
        "#TUGAS NO.2\n",
        "kalimat = input(\"Masukkan kalimatnya: \")\n",
        "kalimatDicari = input(\"Masukkan kata yang ingin dihitung frekuensinya: \")\n",
        "\n",
        "kalimat = kalimat.lower()\n",
        "kalimat = ''.join(char for char in kalimat if char.isalpha() or char.isspace())\n",
        "pisahKalimat = kalimat.split()\n",
        "hitung = pisahKalimat.count(kalimatDicari.lower())\n",
        "\n",
        "print(kalimatDicari, \"ada\", hitung, \"buah\")"
      ],
      "metadata": {
        "id": "UuFvRS4K0_1z"
      },
      "execution_count": null,
      "outputs": []
    },
    {
      "cell_type": "code",
      "source": [
        "#TUGAS NO.3\n",
        "kalimatSpasiBerlebih = input(\"masukkan kalimat :\")\n",
        "\n",
        "pisahKalimat = kalimatSpasiBerlebih.split(\" \")\n",
        "\n",
        "for i in pisahKalimat :\n",
        "    if len(i) > 1:\n",
        "        print(i, end=\" \")"
      ],
      "metadata": {
        "id": "o3P1r5Fc1cu2"
      },
      "execution_count": null,
      "outputs": []
    },
    {
      "cell_type": "code",
      "source": [
        "#TUGAS NO.4\n",
        "kalimat = input(\"masukkan kalimat : \")\n",
        "\n",
        "pisahKalimat = kalimat.split()\n",
        "\n",
        "terpendek = pisahKalimat[0]\n",
        "terpajang = pisahKalimat[0]\n",
        "\n",
        "for i in pisahKalimat:\n",
        "    if len(i) < len(terpendek):\n",
        "        terpendek = i\n",
        "    elif len(i) > len(terpajang):\n",
        "        terpajang = i\n",
        "\n",
        "print(\"Kata terpendek:\", terpendek, \"dan kata terpanjang:\", terpajang)"
      ],
      "metadata": {
        "id": "Edif2u_Q1ion"
      },
      "execution_count": null,
      "outputs": []
    }
  ]
}